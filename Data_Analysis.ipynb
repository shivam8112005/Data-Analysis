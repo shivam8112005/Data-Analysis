{
 "cells": [
  {
   "cell_type": "code",
   "execution_count": 1,
   "metadata": {},
   "outputs": [],
   "source": [
    "import pandas as pd\n",
    "import numpy as np\n",
    "import matplotlib.pyplot as plt"
   ]
  },
  {
   "cell_type": "code",
   "execution_count": null,
   "metadata": {},
   "outputs": [],
   "source": [
    "b=True\n",
    "while(b):\n",
    "    print(\"1. Analyze Data\")\n",
    "    print(\"2. Edit Data\")\n",
    "    print(\"3. Sort Folder\")\n",
    "    print(\"4. Exit\")\n",
    "    choice=input(\"Enter Choice: \")\n",
    "    if(choice==\"1\"):\n",
    "        print(1)\n",
    "        pass\n",
    "    elif(choice==\"2\"):\n",
    "        print(2)\n",
    "        pass\n",
    "    elif(choice==\"3\"):\n",
    "        print(3)\n",
    "        pass\n",
    "    elif(choice==\"4\"):\n",
    "        print(\"Exiting Program...\")\n",
    "        b=False\n",
    "    else:\n",
    "        print(\"Please Enter Valid Choice !\")\n"
   ]
  },
  {
   "cell_type": "code",
   "execution_count": null,
   "metadata": {},
   "outputs": [],
   "source": [
    "def Analyze_Data():\n",
    "    b=True\n",
    "    while(b):\n",
    "        print(\"1. Analyze CSV File\")\n",
    "        print(\"2. Analyze Parquet File\")\n",
    "        print(\"3. Analyze Excel File\")\n",
    "        choice=input(\"Enter Choice: \")\n",
    "        if(choice==\"1\"):\n",
    "            print(1)\n",
    "            pass\n",
    "        elif(choice==\"2\"):\n",
    "            print(2)\n",
    "            pass\n",
    "        elif(choice==\"3\"):\n",
    "          print(3)\n",
    "          pass\n",
    "        elif(choice==\"4\"):\n",
    "          print(\"Exiting Program...\")\n",
    "          b=False\n",
    "        else:\n",
    "          print(\"Please Enter Valid Choice !\")\n"
   ]
  }
 ],
 "metadata": {
  "kernelspec": {
   "display_name": "Python 3",
   "language": "python",
   "name": "python3"
  },
  "language_info": {
   "codemirror_mode": {
    "name": "ipython",
    "version": 3
   },
   "file_extension": ".py",
   "mimetype": "text/x-python",
   "name": "python",
   "nbconvert_exporter": "python",
   "pygments_lexer": "ipython3",
   "version": "3.11.5"
  }
 },
 "nbformat": 4,
 "nbformat_minor": 2
}
